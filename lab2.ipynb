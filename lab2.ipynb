{
 "cells": [
  {
   "cell_type": "markdown",
   "id": "bfb1ce63",
   "metadata": {},
   "source": [
    "# Лабораторная работа №2"
   ]
  },
  {
   "cell_type": "markdown",
   "id": "501d8f68",
   "metadata": {},
   "source": [
    "Описание\n",
    "\n",
    "В вашем распоряжении данные сервиса Яндекс Недвижимость — архив объявлений о продаже квартир в Санкт-Петербурге и соседних населённых пунктах за несколько лет. Нужно научиться определять рыночную стоимость объектов недвижимости. Ваша задача — установить параметры. Это позволит построить автоматизированную систему: она отследит аномалии и мошенническую деятельность.\n",
    "По каждой квартире на продажу доступны два вида данных. Первые вписаны пользователем, вторые — получены автоматически на основе картографических данных. Например, расстояние до центра, аэропорта, ближайшего парка и водоёма."
   ]
  },
  {
   "cell_type": "markdown",
   "id": "694cafd3",
   "metadata": {},
   "source": [
    "Описание данных\n",
    "\n",
    "- airports_nearest — расстояние до ближайшего аэропорта в метрах (м)\n",
    "- balcony — число балконов\n",
    "- ceiling_height — высота потолков (м)\n",
    "- cityCenters_nearest — расстояние до центра города (м)\n",
    "- days_exposition — сколько дней было размещено объявление (от публикации до снятия)\n",
    "- first_day_exposition — дата публикации\n",
    "- floor — этаж\n",
    "- floors_total — всего этажей в доме\n",
    "- is_apartment — апартаменты (булев тип)\n",
    "- kitchen_area — площадь кухни в квадратных метрах (м²)\n",
    "- last_price — цена на момент снятия с публикации\n",
    "- living_area — жилая площадь в квадратных метрах (м²)\n",
    "- locality_name — название населённого пункта\n",
    "- open_plan — свободная планировка (булев тип)\n",
    "- parks_around3000 — число парков в радиусе 3 км\n",
    "- parks_nearest — расстояние до ближайшего парка (м)\n",
    "- ponds_around3000 — число водоёмов в радиусе 3 км\n",
    "- ponds_nearest — расстояние до ближайшего водоёма (м)\n",
    "- rooms — число комнат\n",
    "- studio — квартира-студия (булев тип)\n",
    "- total_area — площадь квартиры в квадратных метрах (м²)\n",
    "- total_images — число фотографий квартиры в объявлении"
   ]
  },
  {
   "cell_type": "markdown",
   "id": "04676cf1",
   "metadata": {},
   "source": [
    "Для начала импортируем все библиотеки и считываем файл с датасетом. При этом сталкиваемся с проблемой - pandas всё видит как одну колонку. В нашем случае разделители у датасета не стандартная запятая, а табуляция, поэтому чтобы pandas считал всё правильно мы дописываем параметр sep='\\t' при чтении файла."
   ]
  },
  {
   "cell_type": "code",
   "execution_count": 3,
   "id": "d7cf5614",
   "metadata": {},
   "outputs": [],
   "source": [
    "import pandas as pd\n",
    "import numpy as np\n",
    "\n",
    "data = pd.read_csv('real_estate_data.csv', sep='\\t')"
   ]
  },
  {
   "cell_type": "code",
   "execution_count": null,
   "id": "1906a60f",
   "metadata": {},
   "outputs": [],
   "source": [
    "data.info()"
   ]
  },
  {
   "cell_type": "code",
   "execution_count": 5,
   "id": "517bef60",
   "metadata": {},
   "outputs": [
    {
     "data": {
      "text/plain": [
       "locality_name\n",
       "деревня Нижняя          1.0\n",
       "Зеленогорск            0.25\n",
       "посёлок Щеглово        0.25\n",
       "Выборг              0.09375\n",
       "Красное Село       0.047619\n",
       "Никольское         0.045455\n",
       "Петергоф           0.041667\n",
       "Всеволожск         0.022727\n",
       "Колпино            0.022727\n",
       "Санкт-Петербург    0.021277\n",
       "Name: is_apartment, dtype: object"
      ]
     },
     "execution_count": 5,
     "metadata": {},
     "output_type": "execute_result"
    }
   ],
   "source": [
    "data.groupby('locality_name')['is_apartment'].mean().sort_values(ascending=False).head(10)\n"
   ]
  },
  {
   "cell_type": "code",
   "execution_count": 6,
   "id": "39a8f47b",
   "metadata": {},
   "outputs": [
    {
     "data": {
      "text/html": [
       "<div>\n",
       "<style scoped>\n",
       "    .dataframe tbody tr th:only-of-type {\n",
       "        vertical-align: middle;\n",
       "    }\n",
       "\n",
       "    .dataframe tbody tr th {\n",
       "        vertical-align: top;\n",
       "    }\n",
       "\n",
       "    .dataframe thead th {\n",
       "        text-align: right;\n",
       "    }\n",
       "</style>\n",
       "<table border=\"1\" class=\"dataframe\">\n",
       "  <thead>\n",
       "    <tr style=\"text-align: right;\">\n",
       "      <th></th>\n",
       "      <th>floors_total</th>\n",
       "      <th>floor</th>\n",
       "      <th>ceiling_height</th>\n",
       "      <th>cityCenters_nearest</th>\n",
       "    </tr>\n",
       "    <tr>\n",
       "      <th>is_apartment</th>\n",
       "      <th></th>\n",
       "      <th></th>\n",
       "      <th></th>\n",
       "      <th></th>\n",
       "    </tr>\n",
       "  </thead>\n",
       "  <tbody>\n",
       "    <tr>\n",
       "      <th>False</th>\n",
       "      <td>10.737248</td>\n",
       "      <td>5.976147</td>\n",
       "      <td>2.873812</td>\n",
       "      <td>14208.418726</td>\n",
       "    </tr>\n",
       "    <tr>\n",
       "      <th>True</th>\n",
       "      <td>6.900000</td>\n",
       "      <td>4.480000</td>\n",
       "      <td>6.313864</td>\n",
       "      <td>14851.000000</td>\n",
       "    </tr>\n",
       "  </tbody>\n",
       "</table>\n",
       "</div>"
      ],
      "text/plain": [
       "              floors_total     floor  ceiling_height  cityCenters_nearest\n",
       "is_apartment                                                             \n",
       "False            10.737248  5.976147        2.873812         14208.418726\n",
       "True              6.900000  4.480000        6.313864         14851.000000"
      ]
     },
     "execution_count": 6,
     "metadata": {},
     "output_type": "execute_result"
    }
   ],
   "source": [
    "data.groupby('is_apartment')[['floors_total', 'floor', 'ceiling_height', 'cityCenters_nearest']].mean()"
   ]
  },
  {
   "cell_type": "code",
   "execution_count": 11,
   "id": "3b90605b",
   "metadata": {},
   "outputs": [
    {
     "name": "stdout",
     "output_type": "stream",
     "text": [
      "['.git', '.venv', 'lab2.ipynb', 'real_estate_data.csv']\n"
     ]
    }
   ],
   "source": [
    "import os\n",
    "print(os.listdir())"
   ]
  },
  {
   "cell_type": "code",
   "execution_count": 5,
   "id": "5a72deb7",
   "metadata": {},
   "outputs": [
    {
     "data": {
      "text/plain": [
       "<Axes: xlabel='is_apartment', ylabel='floors_total'>"
      ]
     },
     "execution_count": 5,
     "metadata": {},
     "output_type": "execute_result"
    },
    {
     "data": {
      "image/png": "[encoded data removed]",
      "text/plain": [
       "<Figure size 640x480 with 1 Axes>"
      ]
     },
     "metadata": {},
     "output_type": "display_data"
    }
   ],
   "source": [
    "import seaborn as sns\n",
    "sns.boxplot(x='is_apartment', y='floors_total', data=data)"
   ]
  },
  {
   "cell_type": "markdown",
   "id": "6fb34f66",
   "metadata": {},
   "source": [
    "Начнём с пропусков в is_apartment."
   ]
  },
  {
   "cell_type": "code",
   "execution_count": 2,
   "id": "a7210384",
   "metadata": {},
   "outputs": [
    {
     "data": {
      "text/plain": [
       "is_apartment\n",
       "NaN      20924\n",
       "False     2725\n",
       "True        50\n",
       "Name: count, dtype: int64"
      ]
     },
     "execution_count": 2,
     "metadata": {},
     "output_type": "execute_result"
    }
   ],
   "source": [
    "data['is_apartment'].value_counts(dropna=False)"
   ]
  },
  {
   "cell_type": "code",
   "execution_count": null,
   "id": "3905c6bb",
   "metadata": {},
   "outputs": [],
   "source": [
    "data[data['is_apartment'].isna()][''].value_counts()\n"
   ]
  },
  {
   "cell_type": "code",
   "execution_count": 6,
   "id": "122804b5",
   "metadata": {},
   "outputs": [
    {
     "data": {
      "text/plain": [
       "is_apartment_num       1.000000\n",
       "ceiling_height         0.179328\n",
       "kitchen_area           0.134304\n",
       "balcony                0.092878\n",
       "total_area             0.088458\n",
       "last_price             0.079716\n",
       "living_area            0.077800\n",
       "ponds_around3000       0.062462\n",
       "parks_around3000       0.058156\n",
       "airports_nearest       0.050980\n",
       "total_images           0.046687\n",
       "days_exposition        0.020628\n",
       "ponds_nearest          0.019008\n",
       "cityCenters_nearest    0.010037\n",
       "rooms                 -0.000860\n",
       "open_plan             -0.006812\n",
       "studio                -0.009986\n",
       "floor                 -0.040646\n",
       "floors_total          -0.078057\n",
       "parks_nearest         -0.097669\n",
       "Name: is_apartment_num, dtype: float64"
      ]
     },
     "execution_count": 6,
     "metadata": {},
     "output_type": "execute_result"
    }
   ],
   "source": [
    "data['is_apartment_num'] = data['is_apartment'].map({True: 1, False: 0})\n",
    "data.corr(numeric_only=True)['is_apartment_num'].sort_values(ascending=False)"
   ]
  },
  {
   "cell_type": "code",
   "execution_count": 7,
   "id": "9b3fa323",
   "metadata": {},
   "outputs": [
    {
     "data": {
      "text/plain": [
       "is_apartment            20924\n",
       "is_apartment_num        20924\n",
       "parks_nearest           15620\n",
       "ponds_nearest           14589\n",
       "balcony                 11519\n",
       "ceiling_height           9195\n",
       "airports_nearest         5542\n",
       "cityCenters_nearest      5519\n",
       "parks_around3000         5518\n",
       "ponds_around3000         5518\n",
       "days_exposition          3181\n",
       "kitchen_area             2278\n",
       "living_area              1903\n",
       "floors_total               86\n",
       "locality_name              49\n",
       "first_day_exposition        0\n",
       "rooms                       0\n",
       "last_price                  0\n",
       "total_area                  0\n",
       "total_images                0\n",
       "open_plan                   0\n",
       "floor                       0\n",
       "studio                      0\n",
       "dtype: int64"
      ]
     },
     "execution_count": 7,
     "metadata": {},
     "output_type": "execute_result"
    }
   ],
   "source": [
    "data.isna().sum().sort_values(ascending=False)"
   ]
  },
  {
   "cell_type": "code",
   "execution_count": 15,
   "id": "bf871724",
   "metadata": {},
   "outputs": [
    {
     "data": {
      "text/plain": [
       "is_apartment            1.000000\n",
       "is_apartment_num        1.000000\n",
       "parks_nearest           0.659147\n",
       "ponds_nearest           0.616039\n",
       "balcony                 0.527719\n",
       "ceiling_height          0.395813\n",
       "airports_nearest        0.234707\n",
       "cityCenters_nearest     0.233751\n",
       "parks_around3000        0.233703\n",
       "ponds_around3000        0.233703\n",
       "days_exposition         0.138884\n",
       "kitchen_area            0.099790\n",
       "living_area             0.085213\n",
       "floors_total            0.004110\n",
       "locality_name           0.001625\n",
       "first_day_exposition    0.000000\n",
       "rooms                   0.000000\n",
       "last_price              0.000000\n",
       "total_area              0.000000\n",
       "total_images            0.000000\n",
       "open_plan               0.000000\n",
       "floor                   0.000000\n",
       "studio                  0.000000\n",
       "dtype: float64"
      ]
     },
     "execution_count": 15,
     "metadata": {},
     "output_type": "execute_result"
    }
   ],
   "source": [
    "mask = data['is_apartment'].isna()\n",
    "data[mask].isna().mean().sort_values(ascending=False).head(23)"
   ]
  },
  {
   "cell_type": "code",
   "execution_count": 14,
   "id": "a90ddb1b",
   "metadata": {},
   "outputs": [
    {
     "data": {
      "text/plain": [
       "is_apartment            1.000000\n",
       "is_apartment_num        1.000000\n",
       "balcony                 0.228909\n",
       "living_area             0.049657\n",
       "ceiling_height          0.044080\n",
       "days_exposition         0.037525\n",
       "kitchen_area            0.034166\n",
       "floors_total            0.021978\n",
       "cityCenters_nearest     0.005663\n",
       "ponds_around3000        0.005627\n",
       "parks_around3000        0.005627\n",
       "airports_nearest        0.005560\n",
       "ponds_nearest           0.002503\n",
       "parks_nearest           0.000277\n",
       "locality_name          -0.026760\n",
       "total_images                 NaN\n",
       "last_price                   NaN\n",
       "total_area                   NaN\n",
       "first_day_exposition         NaN\n",
       "rooms                        NaN\n",
       "floor                        NaN\n",
       "studio                       NaN\n",
       "open_plan                    NaN\n",
       "Name: is_apartment, dtype: float64"
      ]
     },
     "execution_count": 14,
     "metadata": {},
     "output_type": "execute_result"
    }
   ],
   "source": [
    "null_corr = data.isna().corr()\n",
    "null_corr['is_apartment'].sort_values(ascending=False).head(23)"
   ]
  },
  {
   "cell_type": "markdown",
   "id": "d3a52d16",
   "metadata": {},
   "source": [
    "Исходя из анализа нельзя точно сказать, что конкретно должно быть на месте пропусков is_apartment, поэтому заполнять столь большое число пропусков значением False остаётся под вопросом."
   ]
  },
  {
   "cell_type": "markdown",
   "id": "bd072ac6",
   "metadata": {},
   "source": [
    "Далее перейдём к анализу пропусков у столбца ceiling_height."
   ]
  },
  {
   "cell_type": "code",
   "execution_count": 16,
   "id": "78ec3b47",
   "metadata": {},
   "outputs": [
    {
     "data": {
      "text/plain": [
       "ceiling_height\n",
       "NaN       9195\n",
       "2.50      3515\n",
       "2.60      1646\n",
       "2.70      1574\n",
       "3.00      1112\n",
       "          ... \n",
       "3.48         1\n",
       "10.30        1\n",
       "1.00         1\n",
       "100.00       1\n",
       "3.59         1\n",
       "Name: count, Length: 184, dtype: int64"
      ]
     },
     "execution_count": 16,
     "metadata": {},
     "output_type": "execute_result"
    }
   ],
   "source": [
    "data['ceiling_height'].value_counts(dropna=False)"
   ]
  },
  {
   "cell_type": "markdown",
   "id": "6378d2df",
   "metadata": {},
   "source": [
    "Значения данного столбца заполняются пользователем, поэтому отсутствие значения в нём может говорить о том, что пользователь либо забыл указать, либо не знает точного значения."
   ]
  },
  {
   "cell_type": "code",
   "execution_count": 17,
   "id": "7ee99e1c",
   "metadata": {},
   "outputs": [
    {
     "name": "stdout",
     "output_type": "stream",
     "text": [
      "<class 'pandas.core.frame.DataFrame'>\n",
      "RangeIndex: 23699 entries, 0 to 23698\n",
      "Data columns (total 23 columns):\n",
      " #   Column                Non-Null Count  Dtype  \n",
      "---  ------                --------------  -----  \n",
      " 0   total_images          23699 non-null  int64  \n",
      " 1   last_price            23699 non-null  float64\n",
      " 2   total_area            23699 non-null  float64\n",
      " 3   first_day_exposition  23699 non-null  object \n",
      " 4   rooms                 23699 non-null  int64  \n",
      " 5   ceiling_height        14504 non-null  float64\n",
      " 6   floors_total          23613 non-null  float64\n",
      " 7   living_area           21796 non-null  float64\n",
      " 8   floor                 23699 non-null  int64  \n",
      " 9   is_apartment          2775 non-null   object \n",
      " 10  studio                23699 non-null  bool   \n",
      " 11  open_plan             23699 non-null  bool   \n",
      " 12  kitchen_area          21421 non-null  float64\n",
      " 13  balcony               12180 non-null  float64\n",
      " 14  locality_name         23650 non-null  object \n",
      " 15  airports_nearest      18157 non-null  float64\n",
      " 16  cityCenters_nearest   18180 non-null  float64\n",
      " 17  parks_around3000      18181 non-null  float64\n",
      " 18  parks_nearest         8079 non-null   float64\n",
      " 19  ponds_around3000      18181 non-null  float64\n",
      " 20  ponds_nearest         9110 non-null   float64\n",
      " 21  days_exposition       20518 non-null  float64\n",
      " 22  is_apartment_num      2775 non-null   float64\n",
      "dtypes: bool(2), float64(15), int64(3), object(3)\n",
      "memory usage: 3.8+ MB\n"
     ]
    }
   ],
   "source": [
    "data.info()"
   ]
  },
  {
   "cell_type": "code",
   "execution_count": null,
   "id": "ec9a7e6c",
   "metadata": {},
   "outputs": [],
   "source": [
    "import matplotlib as plt\n",
    "\n",
    "plt."
   ]
  },
  {
   "cell_type": "markdown",
   "id": "b6c81720",
   "metadata": {},
   "source": [
    "### Обработка пропусков"
   ]
  },
  {
   "cell_type": "markdown",
   "id": "e1c10190",
   "metadata": {},
   "source": [
    "Можно заметить, что в датасете есть пропуски в столбцах: ceiling_height, living_area, is_apartment, kitchen_area, balcony, airports_nearest, cityCenters_nearest, parks_around3000, parks_nearest, ponds_around3000, ponds_nearest, days_exposition. "
   ]
  },
  {
   "cell_type": "markdown",
   "id": "2946b40e",
   "metadata": {},
   "source": [
    "Для некоторых пропущенных значений можно предположить логичную замену. Например, если человек не указал число балконов — скорее всего, их нет. Такие пропуски допустимо заменить на 0."
   ]
  },
  {
   "cell_type": "code",
   "execution_count": null,
   "id": "e18efb61",
   "metadata": {},
   "outputs": [],
   "source": [
    "data['balcony'] = data['balcony'].fillna(0)\n",
    "# data['parks_around3000'] = data['parks_around3000'].fillna(0)\n",
    "data['ponds_around3000'] = data['ponds_around3000'].fillna(0)"
   ]
  },
  {
   "cell_type": "markdown",
   "id": "2bb82977",
   "metadata": {},
   "source": [
    "Теперь проанализируем информацию о близлежащих объектах. "
   ]
  },
  {
   "cell_type": "markdown",
   "id": "7b3f9394",
   "metadata": {},
   "source": [
    "Аналогичным способом стоит заменить пропуски в ponds_around3000, более того, по итогу, во всех строках , где ponds_around3000 равен 0, столбец ponds_nearest содержит пропуск, что логично. Естественно, в ponds_nearest пропуски заменять на что либо нет смысла, т.к. расстояния до пруда буквально нет, если его рядом нет."
   ]
  },
  {
   "cell_type": "code",
   "execution_count": null,
   "id": "99c8ddb5",
   "metadata": {},
   "outputs": [],
   "source": [
    "data['ponds_around3000'].value_counts(dropna=False)"
   ]
  },
  {
   "cell_type": "code",
   "execution_count": null,
   "id": "732b028a",
   "metadata": {},
   "outputs": [],
   "source": [
    "data[(data['ponds_around3000'] == 0) & (data['ponds_nearest'].isna())]"
   ]
  },
  {
   "cell_type": "code",
   "execution_count": null,
   "id": "a74227e2",
   "metadata": {},
   "outputs": [
    {
     "data": {
      "text/plain": [
       "np.float64(13.0)"
      ]
     },
     "execution_count": 46,
     "metadata": {},
     "output_type": "execute_result"
    }
   ],
   "source": [
    "data['ponds_nearest'].min()"
   ]
  },
  {
   "cell_type": "markdown",
   "id": "a38dbb17",
   "metadata": {},
   "source": [
    "Также мы поступим и с парками. Единственное отличие между парками и прудами в том, что у парков количество нулей и NaN не совпадает у колонок — у parks_nearest меньше \"NaN\", чем нулей у parks_around3000 на 4. Произошло это из-за того, что у parks_nearest есть 4 значения, которые больше 3000 метров, поэтому они соответствуют нулю в столбце parks_around3000."
   ]
  },
  {
   "cell_type": "code",
   "execution_count": null,
   "id": "931e3d1c",
   "metadata": {},
   "outputs": [],
   "source": [
    "mask = data['parks_nearest'].isna()  # строки, где parks_nearest == NaN\n",
    "data.loc[mask, 'parks_around3000'] = data.loc[mask, 'parks_around3000'].fillna(0)"
   ]
  },
  {
   "cell_type": "code",
   "execution_count": null,
   "id": "d05924f5",
   "metadata": {},
   "outputs": [],
   "source": [
    "data['parks_nearest'].value_counts(dropna=False)"
   ]
  },
  {
   "cell_type": "code",
   "execution_count": null,
   "id": "705c0ec7",
   "metadata": {},
   "outputs": [],
   "source": [
    "data['parks_around3000'].value_counts(dropna=False)"
   ]
  },
  {
   "cell_type": "code",
   "execution_count": null,
   "id": "707194de",
   "metadata": {},
   "outputs": [],
   "source": [
    "data[data['parks_nearest'] > 3000]"
   ]
  },
  {
   "cell_type": "markdown",
   "id": "b9a23fd4",
   "metadata": {},
   "source": [
    "У столбцов ceiling_height, living_area, kitchen_area, days_exposition никак заполнить пропуски не выйдет, т.к. не на что ориентироваться при выборе значений."
   ]
  },
  {
   "cell_type": "code",
   "execution_count": null,
   "id": "53c45161",
   "metadata": {},
   "outputs": [
    {
     "data": {
      "text/plain": [
       "np.float64(1.0)"
      ]
     },
     "execution_count": 105,
     "metadata": {},
     "output_type": "execute_result"
    }
   ],
   "source": [
    "data['floors_total'].value_counts(dropna=False)"
   ]
  },
  {
   "cell_type": "markdown",
   "id": "b21029e0",
   "metadata": {},
   "source": [
    "Со столбцом is_apartment всё страннее, но пусть будет пока так:"
   ]
  },
  {
   "cell_type": "code",
   "execution_count": null,
   "id": "9f9d68b9",
   "metadata": {},
   "outputs": [
    {
     "name": "stderr",
     "output_type": "stream",
     "text": [
      "C:\\Users\\mystr\\AppData\\Local\\Temp\\ipykernel_21904\\2052809825.py:1: FutureWarning: Downcasting object dtype arrays on .fillna, .ffill, .bfill is deprecated and will change in a future version. Call result.infer_objects(copy=False) instead. To opt-in to the future behavior, set `pd.set_option('future.no_silent_downcasting', True)`\n",
      "  data['is_apartment'] = data['is_apartment'].fillna(False)\n"
     ]
    }
   ],
   "source": [
    "data['is_apartment'] = data['is_apartment'].fillna(False)"
   ]
  },
  {
   "cell_type": "code",
   "execution_count": null,
   "id": "27b491ab",
   "metadata": {},
   "outputs": [
    {
     "name": "stdout",
     "output_type": "stream",
     "text": [
      "<class 'pandas.core.frame.DataFrame'>\n",
      "RangeIndex: 23699 entries, 0 to 23698\n",
      "Data columns (total 22 columns):\n",
      " #   Column                Non-Null Count  Dtype  \n",
      "---  ------                --------------  -----  \n",
      " 0   total_images          23699 non-null  int64  \n",
      " 1   last_price            23699 non-null  float64\n",
      " 2   total_area            23699 non-null  float64\n",
      " 3   first_day_exposition  23699 non-null  object \n",
      " 4   rooms                 23699 non-null  int64  \n",
      " 5   ceiling_height        14504 non-null  float64\n",
      " 6   floors_total          23613 non-null  float64\n",
      " 7   living_area           21796 non-null  float64\n",
      " 8   floor                 23699 non-null  int64  \n",
      " 9   is_apartment          23699 non-null  bool   \n",
      " 10  studio                23699 non-null  bool   \n",
      " 11  open_plan             23699 non-null  bool   \n",
      " 12  kitchen_area          21421 non-null  float64\n",
      " 13  balcony               23699 non-null  float64\n",
      " 14  locality_name         23650 non-null  object \n",
      " 15  airports_nearest      18157 non-null  float64\n",
      " 16  cityCenters_nearest   18180 non-null  float64\n",
      " 17  parks_around3000      23699 non-null  float64\n",
      " 18  parks_nearest         8079 non-null   float64\n",
      " 19  ponds_around3000      23699 non-null  float64\n",
      " 20  ponds_nearest         9110 non-null   float64\n",
      " 21  days_exposition       20518 non-null  float64\n",
      "dtypes: bool(3), float64(14), int64(3), object(2)\n",
      "memory usage: 3.5+ MB\n"
     ]
    }
   ],
   "source": [
    "data.info()"
   ]
  }
 ],
 "metadata": {
  "kernelspec": {
   "display_name": ".venv",
   "language": "python",
   "name": "python3"
  },
  "language_info": {
   "codemirror_mode": {
    "name": "ipython",
    "version": 3
   },
   "file_extension": ".py",
   "mimetype": "text/x-python",
   "name": "python",
   "nbconvert_exporter": "python",
   "pygments_lexer": "ipython3",
   "version": "3.13.7"
  }
 },
 "nbformat": 4,
 "nbformat_minor": 5
}
